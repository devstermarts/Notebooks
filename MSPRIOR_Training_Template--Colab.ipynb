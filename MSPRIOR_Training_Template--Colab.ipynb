{
 "cells": [
  {
   "cell_type": "markdown",
   "metadata": {},
   "source": [
    "# MSPrior"
   ]
  },
  {
   "cell_type": "markdown",
   "metadata": {
    "id": "XcZKFaZf9Tr-"
   },
   "source": [
    "**MSPrior** is a multi(scale/stream) prior model for realtime temporal learning using RAVE models created by Antoine Caillon. \n",
    "\\\n",
    "[Source code on Github](https://github.com/caillonantoine/msprior)\n",
    "\\\n",
    "\\\n",
    "**RAVE** is a variational autoencoder for fast and high-quality neural audio synthesis by Antoine Caillon and Philippe Esling.\n",
    "\\\n",
    "[Article on arxiv](https://arxiv.org/abs/2111.05011) & [Source code on Github](https://github.com/acids-ircam/RAVE)\n",
    "\n",
    "----\n",
    "<small>*Note that this notebook has been tested with RAVE models until version 2.2.2 - using models created with version >= 2.3. might not lead to a successful training.*\n",
    "\\\n",
    "\\\n",
    "Last updated: 17.03.2024 \\\n",
    "Author: Martin Heinze"
   ]
  },
  {
   "cell_type": "markdown",
   "metadata": {
    "id": "faQ2n9ihZgEG"
   },
   "source": [
    "## Setup"
   ]
  },
  {
   "cell_type": "markdown",
   "metadata": {},
   "source": [
    "*Note: the current version (24.10.2023) of MSPrior training stops at epoch 1000. In order to run the training beyond 1000 epochs, the setup script below downloads a different train.py from devstermarts' fork of MSPrior where the training length can be adjusted to a max amount of epochs. The training cell after the preprocessing step contains command lines for both, the default training as well as the alternative version.*"
   ]
  },
  {
   "cell_type": "code",
   "execution_count": null,
   "metadata": {
    "id": "ihMEndrANdNe"
   },
   "outputs": [],
   "source": [
    "#Setup and install miniconda\n",
    "!curl -L https://repo.anaconda.com/miniconda/Miniconda3-py39_4.12.0-Linux-x86_64.sh -o miniconda.sh\n",
    "!chmod +x miniconda.sh\n",
    "!sh miniconda.sh -b -p /content/miniconda\n",
    "\n",
    "#Setup and install MSPRIOR\n",
    "#Pin to version if required\n",
    "!/content/miniconda/bin/pip install acids-msprior==1.1.2\n",
    "\n",
    "#Download devstermarts train.py (to train > 1000 epochs)\n",
    "!mkdir /content/msprior/\n",
    "!mkdir /content/msprior/msprior_scripts/\n",
    "!curl -L https://raw.githubusercontent.com/devstermarts/msprior/master/msprior_scripts/train.py -o /content/msprior/msprior_scripts/train.py"
   ]
  },
  {
   "cell_type": "code",
   "execution_count": null,
   "metadata": {
    "id": "nbWkUqMpgcrj"
   },
   "outputs": [],
   "source": [
    "#Mount Google Drive\n",
    "from google.colab import drive\n",
    "drive.mount('/content/drive')"
   ]
  },
  {
   "cell_type": "markdown",
   "metadata": {
    "id": "58ZOZMm4aCYD"
   },
   "source": [
    "## Preprocess"
   ]
  },
  {
   "cell_type": "code",
   "execution_count": null,
   "metadata": {
    "id": "VF4gfEa0OV6C"
   },
   "outputs": [],
   "source": [
    "#Preprocess\n",
    "!/content/miniconda/bin/msprior preprocess \\\n",
    "--audio /your/audiofiles/ \\\n",
    "--out_path /your/preprocessed/dataset/ \\\n",
    "--rave /your/pretrained/rave/model.ts\n",
    "\n",
    "#For all possible parameters, check preprocess.py in /msprior_scripts"
   ]
  },
  {
   "cell_type": "markdown",
   "metadata": {
    "id": "gQqcBdQrao0B"
   },
   "source": [
    "## Training"
   ]
  },
  {
   "cell_type": "code",
   "execution_count": null,
   "metadata": {
    "id": "uPIuHbNMz6sM"
   },
   "outputs": [],
   "source": [
    "#Start Tensorboard to monitor training progress\n",
    "%cd /your/runs/\n",
    "\n",
    "%load_ext tensorboard\n",
    "%tensorboard --logdir ."
   ]
  },
  {
   "cell_type": "code",
   "execution_count": null,
   "metadata": {
    "id": "M9M13flCO1zK"
   },
   "outputs": [],
   "source": [
    "#Train your prior model\n",
    "%cd /your/runs/\n",
    "\n",
    "##Use this for original train.py script. Default training length is set to 1000 epochs.\n",
    "#!/content/miniconda/bin/msprior train \\\n",
    "#--db_path /your/preprocessed/dataset/ \\\n",
    "#--name name-of-your-training \\\n",
    "#--config recurrent # <-- Options are: decoder_only / recurrent / encoder_decoder / encoder_decoder_continuous\n",
    "\n",
    "#Default: use devstemarts' train.py. Set flag 'epochs' to any integer, use '-1' for continuous training with manual stopping.\n",
    "!/content/miniconda/bin/python /content/msprior/msprior_scripts/train.py \\\n",
    "--db_path /your/preprocessed/dataset/ \\\n",
    "--name name-of-your-training \\\n",
    "--config recurrent \\ # <-- Options are: decoder_only / recurrent / encoder_decoder / encoder_decoder_continuous\n",
    "--epochs 2000\n",
    "\n",
    "#To resume training add the following to your train command\n",
    "#--ckpt /runs/your-training-name/version_X/checkpoints/file.ckpt\n",
    "\n",
    "#For all possible parameters, check train.py in /msprior_scripts and the .gin file to your chosen configuration in /configs"
   ]
  },
  {
   "cell_type": "markdown",
   "metadata": {
    "id": "jUGz9g-lfNkY"
   },
   "source": [
    "## Export"
   ]
  },
  {
   "cell_type": "code",
   "execution_count": null,
   "metadata": {
    "id": "YfV_Vg5M6eGH"
   },
   "outputs": [],
   "source": [
    "#Model Export\n",
    "%cd /runs/your-training-name/\n",
    "\n",
    "!/content/miniconda/bin/msprior export \\\n",
    "--run /runs/your-training-name \\\n",
    "--continuous \\ #Use for all but discrete RAVE models\n",
    "--batch_size==64 #Fixes a current export issue with models trained with recurrent configuration\n",
    "\n",
    "#For all possible parameters, check export.py in /msprior_scripts"
   ]
  }
 ],
 "metadata": {
  "accelerator": "GPU",
  "colab": {
   "provenance": [],
   "toc_visible": true
  },
  "kernelspec": {
   "display_name": "Python 3 (ipykernel)",
   "language": "python",
   "name": "python3"
  },
  "language_info": {
   "codemirror_mode": {
    "name": "ipython",
    "version": 3
   },
   "file_extension": ".py",
   "mimetype": "text/x-python",
   "name": "python",
   "nbconvert_exporter": "python",
   "pygments_lexer": "ipython3",
   "version": "3.11.5"
  }
 },
 "nbformat": 4,
 "nbformat_minor": 1
}
