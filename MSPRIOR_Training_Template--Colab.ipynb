{
  "cells": [
    {
      "cell_type": "markdown",
      "metadata": {
        "id": "XcZKFaZf9Tr-"
      },
      "source": [
        "# MSPRIOR\n",
        "\n",
        "MSPRIOR is a multi(scale/stream) prior model for realtime temporal learning by Antoine Caillon that works in conjunction with the RAVE model architecture. RAVE is a realtime variational autoencoder for fast and high-quality neural audio synthesis by Antoine Caillon and Philippe Esling.\n",
        "\n",
        "Source code on Github: https://github.com/caillonantoine/msprior\n",
        "\n",
        "\\\n",
        "This notebook has been written to generate prior models on Google Colab.\n",
        "\n",
        "---\n",
        "\n",
        "Last updated: 15.07.2023 \\\n",
        "Author: Martin Heinze"
      ]
    },
    {
      "cell_type": "markdown",
      "source": [
        "# Setup"
      ],
      "metadata": {
        "id": "faQ2n9ihZgEG"
      }
    },
    {
      "cell_type": "code",
      "execution_count": null,
      "metadata": {
        "id": "ihMEndrANdNe"
      },
      "outputs": [],
      "source": [
        "#Setup and install miniconda\n",
        "!curl -L https://repo.anaconda.com/miniconda/Miniconda3-py39_4.12.0-Linux-x86_64.sh -o miniconda.sh\n",
        "!chmod +x miniconda.sh\n",
        "!sh miniconda.sh -b -p /content/miniconda\n",
        "\n",
        "#Setup and install MSPRIOR\n",
        "#Pin to version if required\n",
        "!/content/miniconda/bin/pip install acids-msprior==1.1.2"
      ]
    },
    {
      "cell_type": "code",
      "source": [
        "#Mount Google Drive\n",
        "from google.colab import drive\n",
        "drive.mount('/gdrive')"
      ],
      "metadata": {
        "id": "nbWkUqMpgcrj"
      },
      "execution_count": null,
      "outputs": []
    },
    {
      "cell_type": "markdown",
      "source": [
        "# Preprocess"
      ],
      "metadata": {
        "id": "58ZOZMm4aCYD"
      }
    },
    {
      "cell_type": "code",
      "execution_count": null,
      "metadata": {
        "id": "VF4gfEa0OV6C"
      },
      "outputs": [],
      "source": [
        "#Preprocess\n",
        "!/content/miniconda/bin/msprior preprocess \\\n",
        "--audio /your/audiofiles/ \\\n",
        "--out_path /your/preprocessed/dataset/ \\\n",
        "--rave /your/pretrained/rave/model.ts\n",
        "\n",
        "#For all possible parameters, check preprocess.py in /msprior_scripts"
      ]
    },
    {
      "cell_type": "markdown",
      "source": [
        "# Training"
      ],
      "metadata": {
        "id": "gQqcBdQrao0B"
      }
    },
    {
      "cell_type": "code",
      "source": [
        "#Start Tensorboard to monitor training progress\n",
        "%cd /your/runs/\n",
        "\n",
        "%load_ext tensorboard\n",
        "%tensorboard --logdir ."
      ],
      "metadata": {
        "id": "uPIuHbNMz6sM"
      },
      "execution_count": null,
      "outputs": []
    },
    {
      "cell_type": "code",
      "execution_count": null,
      "metadata": {
        "id": "M9M13flCO1zK"
      },
      "outputs": [],
      "source": [
        "#Train your prior model\n",
        "%cd /your/runs/\n",
        "\n",
        "!/content/miniconda/bin/msprior train \\\n",
        "--db_path /your/preprocessed/dataset/ \\\n",
        "--name name-of-your-training \\\n",
        "--config recurrent #Options are: decoder_only / recurrent / encoder_decoder / encoder_decoder_continuous\n",
        "\n",
        "#To resume training add the following to your train command\n",
        "#--ckpt /runs/your-training-name/version_X/checkpoints/file.ckpt\n",
        "\n",
        "#For all possible parameters, check train.py in /msprior_scripts and the .gin file to your chosen configuration in /configs"
      ]
    },
    {
      "cell_type": "markdown",
      "source": [
        "# Export"
      ],
      "metadata": {
        "id": "jUGz9g-lfNkY"
      }
    },
    {
      "cell_type": "code",
      "execution_count": null,
      "metadata": {
        "id": "YfV_Vg5M6eGH"
      },
      "outputs": [],
      "source": [
        "#Model Export\n",
        "%cd /runs/your-training-name/\n",
        "\n",
        "!/content/miniconda/bin/msprior export \\\n",
        "--run /runs/your-training-name \\\n",
        "--continuous \\ #Use for all but discrete RAVE models\n",
        "--batch_size 64 #Fixes a current export issue with models trained wiht recurrent configuration\n",
        "\n",
        "#For all possible parameters, check export.py in /msprior_scripts"
      ]
    }
  ],
  "metadata": {
    "accelerator": "GPU",
    "colab": {
      "provenance": [],
      "toc_visible": true
    },
    "kernelspec": {
      "display_name": "Python 3",
      "name": "python3"
    },
    "language_info": {
      "name": "python"
    }
  },
  "nbformat": 4,
  "nbformat_minor": 0
}