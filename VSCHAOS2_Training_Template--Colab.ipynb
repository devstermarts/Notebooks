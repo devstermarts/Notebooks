{
 "cells": [
  {
   "cell_type": "markdown",
   "metadata": {},
   "source": [
    "# VSCHAOS2"
   ]
  },
  {
   "cell_type": "markdown",
   "metadata": {
    "id": "MGRnKJVPtB8W",
    "jp-MarkdownHeadingCollapsed": true
   },
   "source": [
    "**VSCHAOS2** is a vintage-flavoured neural audio synthesis package created by [Axel Chemla Romeu Santos](https://github.com/domkirke). It is based on unsupervised / (semi-)supervised training of spectral information using variational auto-encoders. vschaos2 may be trained on small batches of data, is very light, usable using small architectures, and can also be used for auxiliary predictive tasks.\n",
    "\n",
    "[Axel's PhD Thesis](https://hal.archives-ouvertes.fr/tel-03543235) & [Source code on Github](https://github.com/acids-ircam/vschaos2/)\n",
    "\n",
    "----\n",
    "\n",
    "Notebook author: [Martin Heinze](https://github.com/devstermarts)\n",
    "\n",
    "Last updated: 23.11.2024"
   ]
  },
  {
   "cell_type": "markdown",
   "metadata": {
    "id": "VJhbox9kv17I"
   },
   "source": [
    "## Setup runtime\n",
    "Mount GDrive, install Miniconda, VSCHAOS2 and dependencies."
   ]
  },
  {
   "cell_type": "code",
   "execution_count": null,
   "metadata": {
    "id": "Gu8RmsMHy_DC"
   },
   "outputs": [],
   "source": [
    "#Mount Google Drive\n",
    "from google.colab import drive\n",
    "drive.mount('/gdrive')"
   ]
  },
  {
   "cell_type": "code",
   "execution_count": null,
   "metadata": {
    "id": "bv3TDBQzy7Et"
   },
   "outputs": [],
   "source": [
    "#Install Miniconda\n",
    "!mkdir /content/temp/\n",
    "%cd /content/temp\n",
    "!curl -L https://repo.anaconda.com/miniconda/Miniconda3-py39_4.12.0-Linux-x86_64.sh -o miniconda.sh\n",
    "!chmod +x miniconda.sh\n",
    "!sh miniconda.sh -b -p /content/temp/miniconda"
   ]
  },
  {
   "cell_type": "code",
   "execution_count": null,
   "metadata": {
    "id": "oM8aPFQc9_It"
   },
   "outputs": [],
   "source": [
    "#Install VSCHAOS2 either from original repo or fork (default)\n",
    "#!git clone https://github.com/acids-ircam/vschaos2\n",
    "!git clone https://github.com/devstermarts/vschaos2\n",
    "#In case your training gets stuck in validation/ reconstruction, check out the wip branch of the fork.\n",
    "\n",
    "%cd /content/temp/vschaos2\n",
    "\n",
    "#Install dependencies (extracted from requirements.txt, which seems to contain faulty information)\n",
    "!/content/temp/miniconda/bin/pip install tqdm dill numpy>=1.21 matplotlib>=3.5 scipy>=1.7 scikit_learn>=1.0 termcolor GPUtil soundfile torch>=1.12 torchvision torchaudio torchcrepe tensorboard pytorch_lightning==1.6 hydra-core==1.2 cached-conv>=2.5.0\n",
    "!/content/temp/miniconda/bin/pip install git+https://github.com/domkirke/acids_transforms.git\n",
    "!/content/temp/miniconda/bin/pip install git+https://github.com/domkirke/lardon.git\n",
    "!/content/temp/miniconda/bin/pip install git+https://github.com/acids-ircam/nn_tilde.git@feature/attributes\n",
    "\n",
    "#Upgrade ipython ipykernel\n",
    "!/content/temp/miniconda/bin/pip install --upgrade ipython ipykernel"
   ]
  },
  {
   "cell_type": "markdown",
   "metadata": {
    "id": "zduwPAWeuGV-"
   },
   "source": [
    "## Setup folders and import dataset\n",
    "The audio files from your dataset need to be copied to the 'data' subfolder in your training folder. Adjust the source path to your dataset ('/gdrive/MyDrive/your_audio_dataset/') accordingly."
   ]
  },
  {
   "cell_type": "code",
   "execution_count": null,
   "metadata": {
    "id": "NtCQGltbzwws"
   },
   "outputs": [],
   "source": [
    "#Setup folders and copy files\n",
    "!mkdir /gdrive/MyDrive/vschaos2/\n",
    "!mkdir /gdrive/MyDrive/vschaos2/train/\n",
    "!mkdir /gdrive/MyDrive/vschaos2/train/data/\n",
    "!cp -r /gdrive/MyDrive/your_audio_dataset/* /gdrive/MyDrive/vschaos2/train/data/"
   ]
  },
  {
   "cell_type": "markdown",
   "metadata": {
    "id": "SpW7ZDd4tuw5"
   },
   "source": [
    "## Start training\n",
    "First you need to specify a name for the training (flag 'name').\n",
    "The directory to run the training/ save the training data ('rundir') and the path to the training data root folder (specified after '+data.dataset.root') can be left as is in the section below.\n",
    "The '--config-name' flag can set either to 'dgt_mag_precise' or 'dgt_mag_normal'"
   ]
  },
  {
   "cell_type": "code",
   "execution_count": null,
   "metadata": {
    "id": "wsxlRhjo46VY"
   },
   "outputs": [],
   "source": [
    "#Start training\n",
    "%cd /gdrive/MyDrive/vschaos2/train/data/\n",
    "!/content/temp/miniconda/bin/python3 /content/temp/vschaos2/train.py \\\n",
    "--config-name dgt_mag_precise \\\n",
    "name=your_training_name \\\n",
    "rundir=\"/gdrive/MyDrive/vschaos2/train/\" +data.dataset.root=\"/gdrive/MyDrive/vschaos2/train/\""
   ]
  },
  {
   "cell_type": "markdown",
   "metadata": {
    "id": "ywNctiesvHXY"
   },
   "source": [
    "## Export\n",
    "To export a model after training, adjust the filepath below to the 'your_training_name' subfolder in your 'rundir'. The output is stored in the 'models' folder inside your working folder."
   ]
  },
  {
   "cell_type": "code",
   "execution_count": null,
   "metadata": {
    "id": "IPnWFMNu0ZmN"
   },
   "outputs": [],
   "source": [
    "#Model export\n",
    "!mkdir /gdrive/MyDrive/vschaos2/models\n",
    "!/content/temp/miniconda/bin/python3 /content/temp/vschaos2/script.py \\\n",
    "/gdrive/MyDrive/vschaos2/train/your_training_name -o /gdrive/MyDrive/vschaos2/models/"
   ]
  }
 ],
 "metadata": {
  "accelerator": "GPU",
  "colab": {
   "gpuType": "T4",
   "provenance": [],
   "toc_visible": true
  },
  "kernelspec": {
   "display_name": "Python 3 (ipykernel)",
   "language": "python",
   "name": "python3"
  },
  "language_info": {
   "codemirror_mode": {
    "name": "ipython",
    "version": 3
   },
   "file_extension": ".py",
   "mimetype": "text/x-python",
   "name": "python",
   "nbconvert_exporter": "python",
   "pygments_lexer": "ipython3",
   "version": "3.11.5"
  }
 },
 "nbformat": 4,
 "nbformat_minor": 4
}
