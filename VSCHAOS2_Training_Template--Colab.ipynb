{
  "nbformat": 4,
  "nbformat_minor": 0,
  "metadata": {
    "colab": {
      "provenance": [],
      "gpuType": "T4",
      "toc_visible": true
    },
    "kernelspec": {
      "name": "python3",
      "display_name": "Python 3"
    },
    "language_info": {
      "name": "python"
    },
    "accelerator": "GPU"
  },
  "cells": [
    {
      "cell_type": "markdown",
      "source": [
        "# VSCHAOS2\n",
        "\n",
        "**VSCHAOS2** is a vintage-flavoured neural audio synthesis package created by [Axel Chemla Romeu Santos](https://github.com/domkirke). It is based on unsupervised / (semi-)supervised training of spectral information using variational auto-encoders. vschaos2 may be trained on small batches of data, is very light, usable using small architectures, and can also be used for auxiliary predictive tasks.\n",
        "\n",
        "[Axel's PhD Thesis](https://hal.archives-ouvertes.fr/tel-03543235) & [Source code on Github](https://github.com/acids-ircam/vschaos2/)\n",
        "\n",
        "----\n",
        "\n",
        "Notebook Author: [Martin Heinze](https://github.com/devstermarts)\n",
        "Date: 23.11.2024"
      ],
      "metadata": {
        "id": "MGRnKJVPtB8W"
      }
    },
    {
      "cell_type": "markdown",
      "source": [
        "## Setup runtime\n",
        "Mount GDrive, install Miniconda, VSCHAOS2 and dependencies."
      ],
      "metadata": {
        "id": "VJhbox9kv17I"
      }
    },
    {
      "cell_type": "code",
      "source": [
        "#Mount Google Drive\n",
        "from google.colab import drive\n",
        "drive.mount('/gdrive')"
      ],
      "metadata": {
        "id": "Gu8RmsMHy_DC"
      },
      "execution_count": null,
      "outputs": []
    },
    {
      "cell_type": "code",
      "execution_count": null,
      "metadata": {
        "id": "bv3TDBQzy7Et",
        "collapsed": true
      },
      "outputs": [],
      "source": [
        "#Install Miniconda\n",
        "!mkdir /content/temp/\n",
        "%cd /content/temp\n",
        "!curl -L https://repo.anaconda.com/miniconda/Miniconda3-py39_4.12.0-Linux-x86_64.sh -o miniconda.sh\n",
        "!chmod +x miniconda.sh\n",
        "!sh miniconda.sh -b -p /content/temp/miniconda"
      ]
    },
    {
      "cell_type": "code",
      "source": [
        "#Install VSCHAOS2 either from original repo (default) or fork\n",
        "!git clone https://github.com/acids-ircam/vschaos2/\n",
        "#!git clone https://github.com/devstermarts/vschaos2/\n",
        "%cd /content/temp/vschaos2\n",
        "\n",
        "#Install dependencies (extracted from requirements.txt, which seems to contain faulty information)\n",
        "!/content/temp/miniconda/bin/pip install tqdm dill numpy>=1.21 matplotlib>=3.5 scipy>=1.7 scikit_learn>=1.0 termcolor GPUtil soundfile torch>=1.12 torchvision torchaudio torchcrepe tensorboard pytorch_lightning==1.6 hydra-core==1.2 cached-conv>=2.5.0\n",
        "!/content/temp/miniconda/bin/pip install git+https://github.com/domkirke/acids_transforms.git\n",
        "!/content/temp/miniconda/bin/pip install git+https://github.com/domkirke/lardon.git\n",
        "!/content/temp/miniconda/bin/pip install git+https://github.com/acids-ircam/nn_tilde.git@feature/attributes\n",
        "\n",
        "#Upgrade ipython ipykernel\n",
        "!/content/temp/miniconda/bin/pip install --upgrade ipython ipykernel"
      ],
      "metadata": {
        "id": "oM8aPFQc9_It"
      },
      "execution_count": null,
      "outputs": []
    },
    {
      "cell_type": "markdown",
      "source": [
        "## Setup folders and import dataset\n",
        "The audio files from your dataset need to be copied to the 'data' subfolder in your training folder. Adjust the source path to your dataset ('/gdrive/MyDrive/your_audio_dataset/') accordingly."
      ],
      "metadata": {
        "id": "zduwPAWeuGV-"
      }
    },
    {
      "cell_type": "code",
      "source": [
        "#Setup folders and copy files\n",
        "!mkdir /gdrive/MyDrive/vschaos2/\n",
        "!mkdir /gdrive/MyDrive/vschaos2/train/\n",
        "!mkdir /gdrive/MyDrive/vschaos2/train/data/\n",
        "!cp -r /gdrive/MyDrive/your_audio_dataset/* /gdrive/MyDrive/vschaos2/train/data/"
      ],
      "metadata": {
        "id": "NtCQGltbzwws"
      },
      "execution_count": null,
      "outputs": []
    },
    {
      "cell_type": "markdown",
      "source": [
        "## Start training\n",
        "First you need to specify a name for the training (flag 'name').\n",
        "The directory to run the training/ save the training data ('rundir') and the path to the training data root folder (specified after '+data.dataset.root') can be left as is in the section below.\n",
        "The '--config-name' flag can set either to 'dgt_mag_precise' or 'dgt_mag_normal'"
      ],
      "metadata": {
        "id": "SpW7ZDd4tuw5"
      }
    },
    {
      "cell_type": "code",
      "source": [
        "#Start training\n",
        "%cd /gdrive/MyDrive/vschaos2/train/data/\n",
        "!/content/temp/miniconda/bin/python3 /content/temp/vschaos2/train.py \\\n",
        "--config-name dgt_mag_precise \\\n",
        "name=your_training_name \\\n",
        "rundir=\"/gdrive/MyDrive/vschaos2/train/\" +data.dataset.root=\"/gdrive/MyDrive/vschaos2/train/\""
      ],
      "metadata": {
        "id": "wsxlRhjo46VY"
      },
      "execution_count": null,
      "outputs": []
    },
    {
      "cell_type": "markdown",
      "source": [
        "## Export\n",
        "To export a model after training, adjust the filepath below to the 'your_training_name' subfolder in your 'rundir'. The output is stored in the 'models' folder inside your working folder."
      ],
      "metadata": {
        "id": "ywNctiesvHXY"
      }
    },
    {
      "cell_type": "code",
      "source": [
        "#Model export\n",
        "!mkdir /gdrive/MyDrive/vschaos2/models\n",
        "!/content/temp/miniconda/bin/python3 /content/temp/vschaos2/script.py \\\n",
        "/gdrive/MyDrive/vschaos2/train/your_training_name -o /gdrive/MyDrive/vschaos2/models/"
      ],
      "metadata": {
        "id": "IPnWFMNu0ZmN"
      },
      "execution_count": null,
      "outputs": []
    }
  ]
}