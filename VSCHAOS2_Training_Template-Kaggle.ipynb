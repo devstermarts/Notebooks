{
 "cells": [
  {
   "cell_type": "markdown",
   "metadata": {},
   "source": [
    "# VSCHAOS2\n",
    "**VSCHAOS2** is a vintage-flavoured neural audio synthesis package created by [Axel Chemla Romeu Santos](https://github.com/domkirke). It is based on unsupervised / (semi-)supervised training of spectral information using variational auto-encoders. vschaos2 may be trained on small batches of data, is very light, usable using small architectures, and can also be used for auxiliary predictive tasks.\n",
    "\\\n",
    "\\\n",
    "[Axel's PhD Thesis](https://hal.archives-ouvertes.fr/tel-03543235) & [Source code on Github](https://github.com/acids-ircam/vschaos2/)\n",
    "\n",
    "----\n",
    "\n",
    "Notebook Author: [Martin Heinze](https://github.com/devstermarts) \n",
    "\n",
    "Date: 04.11.2023"
   ]
  },
  {
   "cell_type": "markdown",
   "metadata": {},
   "source": [
    "## Setup runtime: Conda, VSCHAOS2, dependencies"
   ]
  },
  {
   "cell_type": "code",
   "execution_count": null,
   "metadata": {
    "execution": {
     "iopub.execute_input": "2023-10-28T11:35:40.960192Z",
     "iopub.status.busy": "2023-10-28T11:35:40.959835Z",
     "iopub.status.idle": "2023-10-28T11:41:54.819097Z",
     "shell.execute_reply": "2023-10-28T11:41:54.817874Z",
     "shell.execute_reply.started": "2023-10-28T11:35:40.960161Z"
    },
    "id": "lRROyhseyZEs"
   },
   "outputs": [],
   "source": [
    "#Install Conda\n",
    "!mkdir /kaggle/temp/\n",
    "%cd /kaggle/temp\n",
    "!curl -L https://repo.anaconda.com/miniconda/Miniconda3-py39_4.12.0-Linux-x86_64.sh -o miniconda.sh\n",
    "!chmod +x miniconda.sh\n",
    "!sh miniconda.sh -b -p /kaggle/temp/miniconda\n",
    "\n",
    "#Install VSCHAOS2\n",
    "!git clone https://github.com/acids-ircam/vschaos2/\n",
    "%cd /kaggle/temp/vschaos2\n",
    "#curl updated requirements.txt from devstermarts' fork to avoid error on cached_conv install and torch compatibility\n",
    "!curl -L https://raw.githubusercontent.com/devstermarts/vschaos2/main/requirements.txt -o /kaggle/temp/vschaos2/requirements.txt\n",
    "!/kaggle/temp/miniconda/bin/pip install -r requirements.txt\n",
    "\n",
    "#Upgrade ipython ipykernel\n",
    "!/kaggle/temp/miniconda/bin/pip install --upgrade ipython ipykernel"
   ]
  },
  {
   "cell_type": "markdown",
   "metadata": {},
   "source": [
    "## Preprocess and training\n",
    "Import your audio files as Kaggle dataset. For pre-processing, these files need to be copied to the runtime's working folder, adjust the path to your dataset ('/kaggle/input/your_audio_dataset') accordingly. \n",
    "For training, you need to specify a name for the training (flag 'name'). The directory to run the training/ save the training data (flag 'rundir') and the path to the training data root folder (specified after '+data.dataset.root') can be left as is in the section below.\n",
    "The '--config' flag can set either to 'dgt_mag_precise' or 'dgt_mag_normal'"
   ]
  },
  {
   "cell_type": "code",
   "execution_count": null,
   "metadata": {
    "id": "NFgQCxOY5XnD"
   },
   "outputs": [],
   "source": [
    "#Setup folders and files\n",
    "!mkdir /kaggle/working/train\n",
    "!mkdir /kaggle/working/train/data\n",
    "!cp -r /kaggle/input/your_audio_dataset/* /kaggle/working/train/data\n",
    "\n",
    "%cd /kaggle/working/train/\n",
    "\n",
    "#Start training\n",
    "!/kaggle/temp/miniconda/bin/python3 /kaggle/temp/vschaos2/train.py \\\n",
    "--config-name dgt_mag_precise \\\n",
    "name=your_training_name \\\n",
    "rundir=\"/kaggle/working/train\" +data.dataset.root=\"/kaggle/working/train/\""
   ]
  },
  {
   "cell_type": "markdown",
   "metadata": {},
   "source": [
    "## Export\n",
    "To export a model after training, you need to create a new Kaggle dataset from your training output.\\\n",
    "Import this dataset to the notebook and adjust the filepath below to the 'your_training_name' subfolder in your 'rundir' (example see below). The output is stored to the root of the working folder."
   ]
  },
  {
   "cell_type": "code",
   "execution_count": null,
   "metadata": {
    "execution": {
     "iopub.execute_input": "2023-10-28T11:42:03.733966Z",
     "iopub.status.busy": "2023-10-28T11:42:03.733574Z",
     "iopub.status.idle": "2023-10-28T11:42:17.921326Z",
     "shell.execute_reply": "2023-10-28T11:42:17.920134Z",
     "shell.execute_reply.started": "2023-10-28T11:42:03.733935Z"
    },
    "id": "fZk6q8ywpHAU",
    "scrolled": true
   },
   "outputs": [],
   "source": [
    "#Model export\n",
    "!/kaggle/temp/miniconda/bin/python3 /kaggle/temp/vschaos2/script.py \\\n",
    "/kaggle/input/your_output_from_training_run/train/your_training_name -o /kaggle/working"
   ]
  }
 ],
 "metadata": {
  "kernelspec": {
   "display_name": "Python 3 (ipykernel)",
   "language": "python",
   "name": "python3"
  },
  "language_info": {
   "codemirror_mode": {
    "name": "ipython",
    "version": 3
   },
   "file_extension": ".py",
   "mimetype": "text/x-python",
   "name": "python",
   "nbconvert_exporter": "python",
   "pygments_lexer": "ipython3",
   "version": "3.9.13"
  }
 },
 "nbformat": 4,
 "nbformat_minor": 4
}
