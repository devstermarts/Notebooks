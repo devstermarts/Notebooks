{
 "cells": [
  {
   "cell_type": "markdown",
   "metadata": {},
   "source": [
    "## RAVE\n",
    "**RAVE** is a variational autoencoder for fast and high-quality neural audio synthesis by Antoine Caillon and Philippe Esling.\n",
    "\\\n",
    "\\\n",
    "[Article on arxiv](https://arxiv.org/abs/2111.05011) & [Source code on Github](https://github.com/acids-ircam/RAVE)\n",
    "\n",
    "---\n",
    "<small>*This notebook has been written to set up a training with RAVE on kaggle.com using GPUs. It comes with additional Augment Audio Tools scripts by Materialvision.*\n",
    "\\\n",
    "*Last updated: 26.05.2023*\n",
    "\\\n",
    "*Author: Martin Heinze*"
   ]
  },
  {
   "cell_type": "markdown",
   "metadata": {},
   "source": [
    "# Install Conda, RAVE, dependencies"
   ]
  },
  {
   "cell_type": "code",
   "execution_count": null,
   "metadata": {},
   "outputs": [],
   "source": [
    "#Install Conda\n",
    "!mkdir /kaggle/temp\n",
    "%cd /kaggle/temp\n",
    "!curl -L https://repo.anaconda.com/miniconda/Miniconda3-py39_4.12.0-Linux-x86_64.sh -o miniconda.sh\n",
    "!chmod +x miniconda.sh\n",
    "!sh miniconda.sh -b -p /kaggle/temp/miniconda\n",
    "\n",
    "#Upgrade ipython ipykernel, install ffmpeg\n",
    "!/kaggle/temp/miniconda/bin/pip install --upgrade ipython ipykernel\n",
    "!/kaggle/temp/miniconda/bin/conda install ffmpeg --yes\n",
    "\n",
    "#Install RAVE\n",
    "#Pin to specific release tag if necessary using 'acids-rave==tag.version‘\n",
    "!/kaggle/temp/miniconda/bin/pip install acids-rave==2.1.18\n",
    "\n",
    "#Uninstall Cublas library. For some reason this creates conflicts with the environment on Kaggle. \n",
    "!/kaggle/temp/miniconda/bin/pip uninstall nvidia_cublas_cu11 --yes"
   ]
  },
  {
   "cell_type": "markdown",
   "metadata": {},
   "source": [
    "# Install and run Audio Augmentation Scripts\n",
    "\n",
    "Taken from https://github.com/materialvision/augment_audio_tools:\n",
    "\n",
    "This script provides a set of audio augmentations for machine learning purposes, in particular useful for the RAVE model. It allows you to process audio files by changing their speed, resampling, splitting stereo files into mono, adding silence, and creating chunks.\n",
    "\n",
    "Documentation see https://github.com/materialvision/augment_audio_tools#usage\n",
    "\n",
    "***These scripts are optional for RAVE trainings. Per default (and for initial training), the below section has been enabled, disable when you want to train on your dataset without preprocessing by these scripts or if you want to resume your training.***"
   ]
  },
  {
   "cell_type": "code",
   "execution_count": null,
   "metadata": {},
   "outputs": [],
   "source": [
    "#Install Audio Augmentation Script libraries\n",
    "#\n",
    "!/kaggle/temp/miniconda/bin/pip install numpy soundfile resampy\n",
    "%cd /kaggle/temp/\n",
    "!git clone https://github.com/materialvision/augment_audio_tools\n",
    "\n",
    "#Process Audio files\n",
    "%cd /kaggle/temp/augment_audio_tools/\n",
    "!mkdir /kaggle/temp/dataset_augmented\n",
    "!/kaggle/temp/miniconda/bin/python augment_audio_speed.py /kaggle/input/<yourdataset> /kaggle/temp/dataset_augmented --split_stereo --add_silence 5 --chunk_duration 15 --speed_change 0.3"
   ]
  },
  {
   "cell_type": "markdown",
   "metadata": {},
   "source": [
    "# Preprocess the dataset and start initial training\n",
    "\n",
    "Preprocessing is necessary once per training data set. In below section, the metadata from preprocessing is stored in '/kaggle/working/meta'. Use the filepath to your dataset on Kaggle as input path, this is usually '/kaggle/input/yourdataset'. \n",
    "\n",
    "While training the output is stored in a folder named 'yourtrainingname' followed by an underscore and a 10-character-string inside '/kaggle/working/runs'. '/kaggle/working/' also contains a 'status' folder with 'data.mdb' and 'lock.mdb' files.\n",
    "\n",
    "***For initial training, the below section has been enabled, disable when you want to resume your training.***"
   ]
  },
  {
   "cell_type": "code",
   "execution_count": null,
   "metadata": {},
   "outputs": [],
   "source": [
    "#Preprocess dataset\n",
    "!mkdir /kaggle/working/meta\n",
    "!/kaggle/temp/miniconda/bin/rave preprocess --input_path /kaggle/temp/dataset_augmented/ --output_path /kaggle/working/meta/\n",
    "\n",
    "#Initiate training\n",
    "#Use config parameters as preferred for your training. The setup below is exemplary. For configuration options check https://github.com/acids-ircam/RAVE#training\n",
    "%cd /kaggle/working\n",
    "!/kaggle/temp/miniconda/bin/rave train --config v2.gin --config wasserstein --db_path /kaggle/working/meta/ --name yourtrainingname --override CAPACITY=128 --override PHASE_1_DURATION=400000"
   ]
  },
  {
   "cell_type": "markdown",
   "metadata": {},
   "source": [
    "# Resume training\n",
    "In order to resume training RAVE on Kaggle, you can transform the output data of the earlier run into a new dataset from the Output tab of your notebook. You then add the new dataset to the notebook, disable the above initial **audio augmentation** and **preprocess and training section** of the notebook and adjust the below section according to your initial training details.\n",
    "\n",
    "***For initial training, the below section has been disabled, enable when you want to resume your training and disable the initial training section before running the notebook.***"
   ]
  },
  {
   "cell_type": "code",
   "execution_count": null,
   "metadata": {},
   "outputs": [],
   "source": [
    "##Copy contents of earlier training to /kaggle/working folder.\n",
    "#!cp -r /kaggle/input/<rootfolderofyourearliertraining>/* /kaggle/working\n",
    "\n",
    "#%cd /kaggle/working/\n",
    "\n",
    "##Resume training\n",
    "##Use config parameters as used in your earlier training.\n",
    "#!/kaggle/temp/miniconda/bin/rave train --config v2.gin --config wasserstein --db_path /kaggle/working/meta/ --name yourtrainingname --override PHASE_1_DURATION=400000 --ckpt /kaggle/working/runs/<yourtrainingnamewitharandomstringintheend>/version_<XX>/checkpoints/"
   ]
  },
  {
   "cell_type": "markdown",
   "metadata": {},
   "source": [
    "# Download your Kaggle Data\n",
    "The Kaggle API allows downloading your training data from your notebooks conveniently. You can find information on setup and CLI commands here: https://github.com/Kaggle/kaggle-api"
   ]
  },
  {
   "cell_type": "markdown",
   "metadata": {},
   "source": [
    "# Export model\n",
    "After your training is finished, you can export a model (.ts Torchscript) file.\n",
    "\\\n",
    "\\\n",
    "***The below section has been disabled. The training won't be finished automatically, you would have to run model export manually, either on this notebook/ runtime or locally on your machine. If the latter, make sure the setup is the same (e.g. RAVE version, dependencies, libraries...).*** "
   ]
  },
  {
   "cell_type": "code",
   "execution_count": null,
   "metadata": {},
   "outputs": [],
   "source": [
    "#Model export. Use '--streaming' flag to export a model capable of real time processing and '--stereo' for a model with two decoders.\n",
    "\n",
    "#!/kaggle/temp/miniconda/bin/rave export --run /kaggle/working/runs/<yourtrainingnamewitharandomstringintheend> --streaming --stereo"
   ]
  }
 ],
 "metadata": {
  "kernelspec": {
   "display_name": "Python 3 (ipykernel)",
   "language": "python",
   "name": "python3"
  },
  "language_info": {
   "codemirror_mode": {
    "name": "ipython",
    "version": 3
   },
   "file_extension": ".py",
   "mimetype": "text/x-python",
   "name": "python",
   "nbconvert_exporter": "python",
   "pygments_lexer": "ipython3",
   "version": "3.9.13"
  }
 },
 "nbformat": 4,
 "nbformat_minor": 4
}
