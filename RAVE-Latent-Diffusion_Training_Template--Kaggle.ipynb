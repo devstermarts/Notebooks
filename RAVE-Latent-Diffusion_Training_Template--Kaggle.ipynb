{
 "cells": [
  {
   "cell_type": "markdown",
   "metadata": {
    "_cell_guid": "b2c77c4e-dd54-4f77-bef7-09dce78f4683",
    "_uuid": "e07ef263-3824-40b2-a4de-a11b51a32a7e",
    "collapsed": false,
    "jupyter": {
     "outputs_hidden": false
    }
   },
   "source": [
    "# RAVE-Latent Diffusion"
   ]
  },
  {
   "cell_type": "markdown",
   "metadata": {
    "_cell_guid": "5da54055-3717-4ae4-902b-935b416effc7",
    "_uuid": "d8fa2601-d25e-45bb-be07-b3ddc3f45d98",
    "collapsed": false,
    "jupyter": {
     "outputs_hidden": false
    }
   },
   "source": [
    "**RAVE-Latent Diffusion** is a denoising diffusion model designed to generate new RAVE latent codes with a large context window, faster than realtime, while maintaining music structural coherency. Code by [Moisés Horta Valenzuela](https://github.com/moiseshorta) \\ 𝔥𝔢𝔵𝔬𝔯𝔠𝔦𝔰𝔪𝔬𝔰 \n",
    "\n",
    "https://github.com/moiseshorta/RAVE-Latent-Diffusion\n",
    "\n",
    "\n",
    "**RAVE** is a variational autoencoder for fast and high-quality neural audio synthesis by Antoine Caillon and Philippe Esling. [Article on arxiv](https://arxiv.org/abs/2111.05011) & [Source code on Github](https://github.com/acids-ircam/RAVE)\n",
    "\n",
    "*Note that this notebook has been tested with RAVE models until version 2.2.2 - using models created with version >= 2.3. might not lead to a successful training.*\n",
    "\n",
    "----\n",
    "\n",
    "Notebook author: [Martin Heinze](https://github.com/devstermarts)\n",
    "\n",
    "Last updated: 23.11.2024"
   ]
  },
  {
   "cell_type": "markdown",
   "metadata": {},
   "source": [
    "## Install Miniconda, RAVE-Latent Diffusion, dependencies"
   ]
  },
  {
   "cell_type": "code",
   "execution_count": null,
   "metadata": {
    "_cell_guid": "62b06402-07bb-471b-9d99-28108af1fd60",
    "_uuid": "1fde1f10-e403-4701-959e-28edc82510c7",
    "collapsed": false,
    "jupyter": {
     "outputs_hidden": false
    }
   },
   "outputs": [],
   "source": [
    "## Install Miniconda\n",
    "!mkdir /kaggle/temp/\n",
    "%cd /kaggle/temp\n",
    "!curl -L https://repo.anaconda.com/miniconda/Miniconda3-py39_4.12.0-Linux-x86_64.sh -o miniconda.sh\n",
    "!chmod +x miniconda.sh\n",
    "!sh miniconda.sh -b -p /kaggle/temp/miniconda\n",
    "\n",
    "## Install RAVE-Latent Diffusion and dependencies\n",
    "!git clone https://github.com/moiseshorta/RAVE-Latent-Diffusion.git\n",
    "%cd /kaggle/temp/RAVE-Latent-Diffusion\n",
    "!/kaggle/temp/miniconda/bin/pip install -r requirements.txt"
   ]
  },
  {
   "cell_type": "markdown",
   "metadata": {},
   "source": [
    "## Preprocess RAVE model and audio dataset\n",
    "\n",
    "***This section is only needed once before initial training. Disable for training resume or output creation.***"
   ]
  },
  {
   "cell_type": "code",
   "execution_count": null,
   "metadata": {
    "_cell_guid": "8f3edb2b-9d8e-4274-8264-1d14ebd2e00a",
    "_uuid": "f86d8e17-818c-4dab-ad78-5b656d597a9a",
    "collapsed": false,
    "jupyter": {
     "outputs_hidden": false
    }
   },
   "outputs": [],
   "source": [
    "!mkdir /kaggle/working/latents/\n",
    "!/kaggle/temp/miniconda/bin/python preprocess.py \\\n",
    "--rave_model \"/kaggle/input/your_rave_model.ts\" \\\n",
    "--audio_folder \"/kaggle/input/your_dataset\" \\\n",
    "--sample_rate 44100 \\\n",
    "--latent_length 4096 \\\n",
    "--latent_folder \"/kaggle/working/latents\""
   ]
  },
  {
   "cell_type": "markdown",
   "metadata": {},
   "source": [
    "## Start training\n",
    "\n",
    "***This section is for initial training. Disable for training resume or output creation.***\n",
    "\n",
    "For all available parameters, check train.py "
   ]
  },
  {
   "cell_type": "code",
   "execution_count": null,
   "metadata": {
    "_cell_guid": "19caaeae-4e81-4711-8f1d-48497a0fb1ab",
    "_uuid": "530e10b4-7834-4f64-a666-68bc5a771a72",
    "collapsed": false,
    "jupyter": {
     "outputs_hidden": false
    }
   },
   "outputs": [],
   "source": [
    "!mkdir /kaggle/working/checkpoints/\n",
    "!/kaggle/temp/miniconda/bin/python train.py \\\n",
    "--name your_training_name \\\n",
    "--latent_folder \"/kaggle/working/latents\" \\\n",
    "--save_out_path \"/kaggle/working/checkpoints\" \\\n",
    "--save_interval 100 #Default=50. LD checkpoints are big, to avoid memory depletion, this is set to higher value"
   ]
  },
  {
   "cell_type": "markdown",
   "metadata": {},
   "source": [
    "## Resume training\n",
    "\n",
    "***This section is for training resume. Disable for initial training or output creation. Make sure to use the same configuration as in your initial training.***\n",
    "\n",
    "For all available parameters, check train.py "
   ]
  },
  {
   "cell_type": "code",
   "execution_count": null,
   "metadata": {
    "_cell_guid": "a9c91dbc-f367-496a-ac92-694221a36f1a",
    "_uuid": "cc707430-e770-4a98-9785-ef7a11ce6492",
    "collapsed": false,
    "jupyter": {
     "outputs_hidden": false
    }
   },
   "outputs": [],
   "source": [
    "#Copy contents of earlier training to /kaggle/working folder.\n",
    "!cp -r /kaggle/input/root_folder_of_your_earlier_training/* /kaggle/working\n",
    "\n",
    "!/kaggle/temp/miniconda/bin/python train.py \\\n",
    "--name your_training_name \\\n",
    "--latent_folder \"/kaggle/working/latents\" \\\n",
    "--save_out_path \"/kaggle/working/checkpoints\" \\\n",
    "--checkpoint_path \"/kaggle/working/checkpoints\" \\\n",
    "--save_interval 100 #Default=50. LD checkpoints are big, to avoid memory depletion, this is set to higher value"
   ]
  },
  {
   "cell_type": "markdown",
   "metadata": {},
   "source": [
    "## Generate output wave files\n",
    "\n",
    "***This section is for output creation. Disable for initial training or resume training.***\n",
    "\n",
    "For all available parameters, check generate.py "
   ]
  },
  {
   "cell_type": "code",
   "execution_count": null,
   "metadata": {
    "_cell_guid": "bdb5089c-bc52-4ca2-90d3-5fdbcb4f81d9",
    "_uuid": "99a450f7-c6b4-48c7-8eb7-ef55fc0a849d",
    "collapsed": false,
    "jupyter": {
     "outputs_hidden": false
    }
   },
   "outputs": [],
   "source": [
    "!mkdir /kaggle/working/output/\n",
    "\n",
    "#The below command is exemplary for one output file, change to your liking and c/p with different parameters as you seem fit.\n",
    "!/kaggle/temp/miniconda/bin/python generate.py \\\n",
    "--model_path \"/kaggle/input/root_folder_of_your_earlier_training/checkpoints/model_with_best_suffix.pt\" \\\n",
    "--rave_model \"/kaggle/input/your_rave_model.ts\" \\\n",
    "--sample_rate 44100 \\\n",
    "--diffusion_steps 100 \\\n",
    "--seed 91827536 \\\n",
    "--temperature=1 \\\n",
    "--latent_length 8192 \\\n",
    "--length_mult 1 \\\n",
    "--lerp=True \\\n",
    "--seed_a=91827536 \\\n",
    "--seed_b=19283574 \\\n",
    "--output_path \"/kaggle/working/output\" \\\n",
    "--name your_filename"
   ]
  }
 ],
 "metadata": {
  "kaggle": {
   "accelerator": "none",
   "dataSources": [],
   "isGpuEnabled": false,
   "isInternetEnabled": true,
   "language": "python",
   "sourceType": "notebook"
  },
  "kernelspec": {
   "display_name": "Python 3 (ipykernel)",
   "language": "python",
   "name": "python3"
  },
  "language_info": {
   "codemirror_mode": {
    "name": "ipython",
    "version": 3
   },
   "file_extension": ".py",
   "mimetype": "text/x-python",
   "name": "python",
   "nbconvert_exporter": "python",
   "pygments_lexer": "ipython3",
   "version": "3.11.5"
  }
 },
 "nbformat": 4,
 "nbformat_minor": 4
}
