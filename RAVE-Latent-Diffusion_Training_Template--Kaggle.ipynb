{
 "cells": [
  {
   "cell_type": "markdown",
   "metadata": {},
   "source": [
    "# RAVE-Latent Diffusion \n",
    "RAVE-Latent Diffusion is a denoising diffusion model designed to generate new RAVE* latent codes with a large context window, faster than realtime, while maintaining music structural coherency. Code by [Moisés Horta Valenzuela](https://github.com/moiseshorta) \\ 𝔥𝔢𝔵𝔬𝔯𝔠𝔦𝔰𝔪𝔬𝔰\n",
    "\n",
    "*RAVE is a variational autoencoder for fast and high-quality neural audio synthesis by Antoine Caillon and Philippe Esling. https://github.com/acids-ircam/RAVE\n",
    "\n",
    "----\n",
    "\n",
    "Notebook Author: Martin Heinze\n",
    "\n",
    "Date: 14.06.2023"
   ]
  },
  {
   "cell_type": "code",
   "execution_count": null,
   "metadata": {
    "_cell_guid": "b1076dfc-b9ad-4769-8c92-a6c4dae69d19",
    "_uuid": "8f2839f25d086af736a60e9eeb907d3b93b6e0e5"
   },
   "outputs": [],
   "source": [
    "#Install Conda\n",
    "!mkdir /kaggle/temp/\n",
    "\n",
    "%cd /kaggle/temp\n",
    "!curl -L https://repo.anaconda.com/miniconda/Miniconda3-py39_4.12.0-Linux-x86_64.sh -o miniconda.sh\n",
    "!chmod +x miniconda.sh\n",
    "!sh miniconda.sh -b -p /kaggle/temp/miniconda\n",
    "\n",
    "#Install RAVE-Latent Diffusion\n",
    "!git clone https://github.com/moiseshorta/RAVE-Latent-Diffusion.git\n",
    "%cd /kaggle/temp/RAVE-Latent-Diffusion\n",
    "!/kaggle/temp/miniconda/bin/pip install -r requirements.txt"
   ]
  },
  {
   "cell_type": "code",
   "execution_count": null,
   "metadata": {},
   "outputs": [],
   "source": [
    "#Preprocess RAVE model and audio dataset.\n",
    "#This section is only needed once before initial training. Disable for training resume or output creation.\n",
    "!mkdir /kaggle/working/latents/\n",
    "\n",
    "!/kaggle/temp/miniconda/bin/python preprocess.py \\\n",
    "--rave_model \"/kaggle/input/rave_model.ts\" \\\n",
    "--audio_folder \"/kaggle/input/yourdataset\" \\\n",
    "--sample_rate 44100 \\\n",
    "--latent_length 8192 \\\n",
    "--latent_folder \"/kaggle/working/latents\" "
   ]
  },
  {
   "cell_type": "code",
   "execution_count": null,
   "metadata": {},
   "outputs": [],
   "source": [
    "#Start training\n",
    "#This section is for initial training. Disable for training resume or output creation.\n",
    "#For all available parameters, check train.py \n",
    "!mkdir /kaggle/working/checkpoints/\n",
    "\n",
    "!/kaggle/temp/miniconda/bin/python train.py \\\n",
    "--name yourtrainingname \\\n",
    "--latent_folder \"/kaggle/working/latents\" \\\n",
    "--save_out_path \"/kaggle/working/checkpoints\" \\\n",
    "--save_interval 200 #Default=50. LD checkpoints are big, to avoid memory depletion, this is set to higher value"
   ]
  },
  {
   "cell_type": "code",
   "execution_count": null,
   "metadata": {},
   "outputs": [],
   "source": [
    "#Resume training\n",
    "#This section is for training resume. Disable for initial training or output creation.\n",
    "#For all available parameters, check train.py \n",
    "\n",
    "#Copy contents of earlier training to /kaggle/working folder.\n",
    "!cp -r /kaggle/input/<rootfolderofyourearliertraining>/* /kaggle/working\n",
    "\n",
    "!/kaggle/temp/miniconda/bin/python train.py \\\n",
    "--name yourtrainingname \\\n",
    "--latent_folder \"/kaggle/working/latents\" \\\n",
    "--save_out_path \"/kaggle/working/checkpoints\" \\\n",
    "--checkpoint_path \"/kaggle/working/checkpoints\" \\\n",
    "--save_interval 200 #Default=50. LD checkpoints are big, to avoid memory depletion, this is set to higher value"
   ]
  },
  {
   "cell_type": "code",
   "execution_count": null,
   "metadata": {},
   "outputs": [],
   "source": [
    "#Generate output wave files\n",
    "#This section is for output creation. Disable for initial training or resume training.\n",
    "#For all available parameters, check generate.py \n",
    "\n",
    "#Copy contents of earlier training to /kaggle/working folder.\n",
    "!cp -r /kaggle/input/<rootfolderofyourearliertraining>/* /kaggle/working\n",
    "\n",
    "#The below command is exemplary, change to your liking and c/p with different parameters as you seem fit.\n",
    "!mkdir /kaggle/working/output/\n",
    "\n",
    "!/kaggle/temp/miniconda/bin/python generate.py \\\n",
    "--model_path \"/kaggle/working/checkpoints/best_model.pt\" \\\n",
    "--rave_model \"/kaggle/input/your_rave_model.ts\" \\\n",
    "--sample_rate 44100 \\\n",
    "--diffusion_steps 100 \\\n",
    "--seed 91827536 \\\n",
    "--temperature=1 \\\n",
    "--latent_length 8192 \\\n",
    "--length_mult 1 \\\n",
    "--lerp=True \\\n",
    "--seed_a=91827536 \\\n",
    "--seed_b=19283574 \\\n",
    "--output_path \"/kaggle/working/output\" \\\n",
    "--name yourfilename "
   ]
  }
 ],
 "metadata": {
  "kernelspec": {
   "display_name": "Python 3 (ipykernel)",
   "language": "python",
   "name": "python3"
  },
  "language_info": {
   "codemirror_mode": {
    "name": "ipython",
    "version": 3
   },
   "file_extension": ".py",
   "mimetype": "text/x-python",
   "name": "python",
   "nbconvert_exporter": "python",
   "pygments_lexer": "ipython3",
   "version": "3.9.13"
  }
 },
 "nbformat": 4,
 "nbformat_minor": 4
}
