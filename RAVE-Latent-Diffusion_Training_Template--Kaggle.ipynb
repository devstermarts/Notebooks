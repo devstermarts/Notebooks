{
 "cells": [
  {
   "cell_type": "markdown",
   "metadata": {},
   "source": [
    "# RAVE-Latent Diffusion \n",
    "\n",
    "RAVE-Latent Diffusion is a denoising diffusion model designed to generate new RAVE* latent codes with a large context window, faster than realtime, while maintaining music structural coherency. Code by [Moisés Horta Valenzuela](https://github.com/moiseshorta) \\ 𝔥𝔢𝔵𝔬𝔯𝔠𝔦𝔰𝔪𝔬𝔰 \n",
    "https://github.com/moiseshorta/RAVE-Latent-Diffusion\n",
    "\n",
    "*RAVE is a variational autoencoder for fast and high-quality neural audio synthesis by Antoine Caillon and Philippe Esling. \n",
    "https://github.com/acids-ircam/RAVE\n",
    "\n",
    "Note: when there's something put in <...>, e.g. <your_dataset>, that's where your input is needed :)\n",
    "\n",
    "----\n",
    "\n",
    "Notebook Author: [Martin Heinze](https://github.com/devstermarts) \n",
    "\n",
    "Date: 21.10.2023"
   ]
  },
  {
   "cell_type": "code",
   "execution_count": null,
   "metadata": {
    "_cell_guid": "b1076dfc-b9ad-4769-8c92-a6c4dae69d19",
    "_uuid": "8f2839f25d086af736a60e9eeb907d3b93b6e0e5"
   },
   "outputs": [],
   "source": [
    "## Install Conda\n",
    "\n",
    "!mkdir /kaggle/temp/\n",
    "%cd /kaggle/temp\n",
    "!curl -L https://repo.anaconda.com/miniconda/Miniconda3-py39_4.12.0-Linux-x86_64.sh -o miniconda.sh\n",
    "!chmod +x miniconda.sh\n",
    "!sh miniconda.sh -b -p /kaggle/temp/miniconda\n",
    "\n",
    "\n",
    "## Install RAVE-Latent Diffusion\n",
    "\n",
    "!git clone https://github.com/moiseshorta/RAVE-Latent-Diffusion.git\n",
    "%cd /kaggle/temp/RAVE-Latent-Diffusion\n",
    "!/kaggle/temp/miniconda/bin/pip install -r requirements.txt"
   ]
  },
  {
   "cell_type": "code",
   "execution_count": null,
   "metadata": {},
   "outputs": [],
   "source": [
    "## Preprocess RAVE model and audio dataset.\n",
    "#This section is only needed once before initial training. Disable for training resume or output creation.\n",
    "\n",
    "!mkdir /kaggle/working/latents/\n",
    "!/kaggle/temp/miniconda/bin/python preprocess.py \\\n",
    "--rave_model \"/kaggle/input/<your_rave_model>.ts\" \\\n",
    "--audio_folder \"/kaggle/input/<your_dataset>\" \\\n",
    "--sample_rate 44100 \\\n",
    "--latent_length 4096 \\\n",
    "--latent_folder \"/kaggle/working/latents\" "
   ]
  },
  {
   "cell_type": "code",
   "execution_count": null,
   "metadata": {},
   "outputs": [],
   "source": [
    "## Start training\n",
    "#This section is for initial training. Disable for training resume or output creation.\n",
    "#For all available parameters, check train.py \n",
    "\n",
    "!mkdir /kaggle/working/checkpoints/\n",
    "!/kaggle/temp/miniconda/bin/python train.py \\\n",
    "--name <your_training_name> \\\n",
    "--latent_folder \"/kaggle/working/latents\" \\\n",
    "--save_out_path \"/kaggle/working/checkpoints\" \\\n",
    "--save_interval 100 #Default=50. LD checkpoints are big, to avoid memory depletion, this is set to higher value"
   ]
  },
  {
   "cell_type": "code",
   "execution_count": null,
   "metadata": {},
   "outputs": [],
   "source": [
    "## Resume training\n",
    "#This section is for training resume. Disable for initial training or output creation. Make sure to use the same configuration as in your initial training.  \n",
    "#For all available parameters, check train.py \n",
    "\n",
    "#Copy contents of earlier training to /kaggle/working folder.\n",
    "!cp -r /kaggle/input/<rootfolder_of_your_earlier_training>/* /kaggle/working\n",
    "\n",
    "!/kaggle/temp/miniconda/bin/python train.py \\\n",
    "--name <your_training_name> \\\n",
    "--latent_folder \"/kaggle/working/latents\" \\\n",
    "--save_out_path \"/kaggle/working/checkpoints\" \\\n",
    "--checkpoint_path \"/kaggle/working/checkpoints\" \\\n",
    "--save_interval 100 #Default=50. LD checkpoints are big, to avoid memory depletion, this is set to higher value"
   ]
  },
  {
   "cell_type": "code",
   "execution_count": null,
   "metadata": {},
   "outputs": [],
   "source": [
    "## Generate output wave files\n",
    "#This section is for output creation. Disable for initial training or resume training.\n",
    "#For all available parameters, check generate.py \n",
    "\n",
    "!mkdir /kaggle/working/output/\n",
    "\n",
    "#The below command is exemplary for one output file, change to your liking and c/p with different parameters as you seem fit.\n",
    "\n",
    "!/kaggle/temp/miniconda/bin/python generate.py \\\n",
    "--model_path \"/kaggle/input/<rootfolder_of_your_earlier_training>/checkpoints/<model_with_best_suffix>.pt\" \\\n",
    "--rave_model \"/kaggle/input/<your_rave_model>.ts\" \\\n",
    "--sample_rate 44100 \\\n",
    "--diffusion_steps 100 \\\n",
    "--seed 91827536 \\\n",
    "--temperature=1 \\\n",
    "--latent_length 8192 \\\n",
    "--length_mult 1 \\\n",
    "--lerp=True \\\n",
    "--seed_a=91827536 \\\n",
    "--seed_b=19283574 \\\n",
    "--output_path \"/kaggle/working/output\" \\\n",
    "--name <your_filename> "
   ]
  }
 ],
 "metadata": {
  "kernelspec": {
   "display_name": "Python 3 (ipykernel)",
   "language": "python",
   "name": "python3"
  },
  "language_info": {
   "codemirror_mode": {
    "name": "ipython",
    "version": 3
   },
   "file_extension": ".py",
   "mimetype": "text/x-python",
   "name": "python",
   "nbconvert_exporter": "python",
   "pygments_lexer": "ipython3",
   "version": "3.9.13"
  }
 },
 "nbformat": 4,
 "nbformat_minor": 4
}
