{
 "cells": [
  {
   "cell_type": "markdown",
   "metadata": {},
   "source": [
    "# RAVE"
   ]
  },
  {
   "cell_type": "markdown",
   "metadata": {},
   "source": [
    "**RAVE** is a variational autoencoder for fast and high-quality neural audio synthesis by Antoine Caillon and Philippe Esling. [Article on arxiv](https://arxiv.org/abs/2111.05011) & [Source code on Github](https://github.com/acids-ircam/RAVE)\n",
    "\n",
    "This notebook supports Victor Shepardson's [fork of RAVE](https://github.com/victor-shepardson/RAVE) which introduces a few great features and configurations for training a model. \n",
    "\n",
    "----\n",
    "\n",
    "Notebook author: [Martin Heinze](https://github.com/devstermarts)\n",
    "\n",
    "Last updated: 13.01.2025"
   ]
  },
  {
   "cell_type": "markdown",
   "metadata": {},
   "source": [
    "## Install Miniconda, RAVE, dependencies"
   ]
  },
  {
   "cell_type": "code",
   "execution_count": null,
   "metadata": {},
   "outputs": [],
   "source": [
    "#Install Miniconda\n",
    "!mkdir /kaggle/temp\n",
    "%cd /kaggle/temp\n",
    "!curl -L https://repo.anaconda.com/miniconda/Miniconda3-py39_4.12.0-Linux-x86_64.sh -o miniconda.sh\n",
    "!chmod +x miniconda.sh\n",
    "!sh miniconda.sh -b -p /kaggle/temp/miniconda\n",
    "\n",
    "#Upgrade ipython ipykernel, install ffmpeg\n",
    "!/kaggle/temp/miniconda/bin/pip install --upgrade ipython ipykernel\n",
    "!/kaggle/temp/miniconda/bin/conda install ffmpeg --yes"
   ]
  },
  {
   "cell_type": "code",
   "execution_count": null,
   "metadata": {},
   "outputs": [],
   "source": [
    "#Install RAVE fork\n",
    "%cd /kaggle/temp\n",
    "!git clone https://github.com/victor-shepardson/RAVE.git\n",
    "!RAVE_VERSION=2.4.0b CACHED_CONV_VERSION=2.6.0b /kaggle/temp/miniconda/bin/pip install -e RAVE"
   ]
  },
  {
   "cell_type": "markdown",
   "metadata": {},
   "source": [
    "## Preprocess training and validation dataset\n",
    "Preprocessing is necessary once per training. In below section, the data from preprocessing is stored in '/kaggle/working/processed'. Use the filepath to your dataset as input path, this is usually '/kaggle/input/your_audio_dataset'. \\"
   ]
  },
  {
   "cell_type": "code",
   "execution_count": null,
   "metadata": {},
   "outputs": [],
   "source": [
    "#Preprocess dataset\n",
    "!mkdir /kaggle/working/processed\n",
    "!/kaggle/temp/miniconda/bin/rave preprocess \\\n",
    "--input_path /kaggle/input/your_audio_dataset/ \\\n",
    "--output_path /kaggle/working/processed/ \\\n",
    "--channels 2 #no. of audio channels 1=mono; 2=stereo..."
   ]
  },
  {
   "cell_type": "markdown",
   "metadata": {},
   "source": [
    "The fork allows replacing the default validation dataset (X% of the training dataset) with a custom validation dataset, which needs to be preprocessed separately and can be added with flag '--val_db_path' in training later. If you want to go with the default setting, just delete the 'Preprocess validation dataset' below and remove the flag from training and resume sections. \\\n",
    "Note that the dedicated validation dataset does not have any impact on the training itself but gives you more control in such way that you can decide on representative items from your training dataset as opposed to a random selection of it. "
   ]
  },
  {
   "cell_type": "code",
   "execution_count": null,
   "metadata": {},
   "outputs": [],
   "source": [
    "#Preprocess validation dataset\n",
    "!mkdir /kaggle/working/validation\n",
    "!/kaggle/temp/miniconda/bin/rave preprocess \\\n",
    "--input_path /kaggle/input/your_validation_dataset \\\n",
    "--output_path /kaggle/working/validation/ \\\n",
    "--channels 2 #no. of audio channels 1=mono; 2=stereo..."
   ]
  },
  {
   "cell_type": "markdown",
   "metadata": {},
   "source": [
    "## Start initial training\n",
    "While training the output is stored in a folder named 'your_training_name' followed by an underscore and a 10-character-string inside '/kaggle/working/runs'. '/kaggle/working/' also contains a 'status' folder with 'data.mdb' and 'lock.mdb' files. \\\n",
    "Note that there are a lot of training configuration options some of which cannot be combined. The documentation on this topic is sparse so you might want to check code yourself or ask the creators. \n",
    "\n",
    "***For initial training, the below section has been enabled, disable when you want to resume your training.***"
   ]
  },
  {
   "cell_type": "code",
   "execution_count": null,
   "metadata": {},
   "outputs": [],
   "source": [
    "#Initiate training\n",
    "#Use config parameters as preferred for your training. \n",
    "#The setup below is exemplary. For configuration options check https://github.com/victor-shepardson/RAVE\n",
    "#The fork comes with additional training parameters and options. Check train.py for details. \n",
    "%cd /kaggle/working\n",
    "!/kaggle/temp/miniconda/bin/rave train \\\n",
    "--config v2.gin \\\n",
    "--config wasserstein \\\n",
    "--db_path /kaggle/working/processed/ \\\n",
    "--name your_training_name \\\n",
    "--override CAPACITY=128 \\\n",
    "--override PHASE_1_DURATION=2000000 \\\n",
    "--val_db_path /kaggle/working/validation/ \\ #in case you want to use a separate, preprocessed validation dataset\n",
    "--channels 2 #no. of audio channels 1=mono; 2=stereo..."
   ]
  },
  {
   "cell_type": "markdown",
   "metadata": {},
   "source": [
    "## Resume training\n",
    "In order to conveniently resume training RAVE on Kaggle, you can transform the output data of the first run into a new dataset from the output tab of your notebook. You then add the new dataset to the notebook, disable the above initial, **Preprocess the dataset** and **Start initial training** sections of the notebook and adjust the below section according to your initial training configuration.\n",
    "\n",
    "To further progress on the training after the first run, update the processed dataset by creating a new version from the output of the latest run. Make sure to check for updates on the dataset in your notebook before resuming the training.\n",
    "\n",
    "***When you want to resume your training, disable the initial training section above before running the notebook.***"
   ]
  },
  {
   "cell_type": "code",
   "execution_count": null,
   "metadata": {},
   "outputs": [],
   "source": [
    "#Copy contents of earlier training to /kaggle/working folder.\n",
    "!cp -r /kaggle/input/root_folder_of_your_earlier_training/* /kaggle/working\n",
    "%cd /kaggle/working/\n",
    "\n",
    "#Resume training\n",
    "#Use config parameters as used in your earlier training.\n",
    "!/kaggle/temp/miniconda/bin/rave train \\\n",
    "--config v2.gin \\\n",
    "--config wasserstein \\\n",
    "--db_path /kaggle/working/processed/ \\\n",
    "--name your_training_name \\\n",
    "--override CAPACITY=128 \\\n",
    "--override PHASE_1_DURATION=2000000 \\\n",
    "--val_db_path /kaggle/working/validation/ \\ #in case you want to use a separate, preprocessed validation dataset\n",
    "--channels 2 \\ #no. of audio channels 1=mono; 2=stereo...\n",
    "--ckpt /kaggle/working/runs/your_training_name_with_a_random_string_in_the_end/version_X/checkpoints/epochXXX.ckpt #point to a specific checkpoint file to continue training"
   ]
  },
  {
   "cell_type": "markdown",
   "metadata": {},
   "source": [
    "## Export model\n",
    "After your training is finished, you can export a model (.ts Torchscript) file.\n",
    "\n",
    "***For the export, start a notebook session (don't save and run this notebook). In the session, make sure to run the setup cells for Miniconda and RAVE and dependencies install before running export.*** "
   ]
  },
  {
   "cell_type": "code",
   "execution_count": null,
   "metadata": {},
   "outputs": [],
   "source": [
    "#Model export. \n",
    "#Use '--streaming' flag to export a model capable of real time processing.\n",
    "#For more export configurations and options check https://github.com/victor-shepardson/RAVE -> export.py for details. \n",
    "\n",
    "#Export model\n",
    "!/kaggle/temp/miniconda/bin/rave export \\\n",
    "--run /kaggle/input/root_folder_of_your_earlier_training/runs/your_training_name_with_a_random_string_in_the_end \\\n",
    "--streaming \\\n",
    "--channels 2 \\ #no. of audio channels 1=mono; 2=stereo...\n",
    "--output /kaggle/working/ \\\n",
    "--named your-model-name"
   ]
  }
 ],
 "metadata": {
  "kaggle": {
   "accelerator": "none",
   "dataSources": [],
   "isGpuEnabled": false,
   "isInternetEnabled": true,
   "language": "python",
   "sourceType": "notebook"
  },
  "kernelspec": {
   "display_name": "Python 3 (ipykernel)",
   "language": "python",
   "name": "python3"
  },
  "language_info": {
   "codemirror_mode": {
    "name": "ipython",
    "version": 3
   },
   "file_extension": ".py",
   "mimetype": "text/x-python",
   "name": "python",
   "nbconvert_exporter": "python",
   "pygments_lexer": "ipython3",
   "version": "3.11.5"
  }
 },
 "nbformat": 4,
 "nbformat_minor": 4
}
