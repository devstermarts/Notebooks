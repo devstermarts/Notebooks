{
  "cells": [
    {
      "cell_type": "markdown",
      "source": [
        "# RAVE\n",
        "**RAVE** is a variational autoencoder for fast and high-quality neural audio synthesis by Antoine Caillon and Philippe Esling.\n",
        "\\\n",
        "\\\n",
        "[Article on arxiv](https://arxiv.org/abs/2111.05011) & [Source code on Github](https://github.com/acids-ircam/RAVE)\n",
        "\n",
        "\n",
        "---\n",
        "\n",
        "<small>*This notebook is based on the one from [Hexorcismos](https://colab.research.google.com/drive/1ih-gv1iHEZNuGhHPvCHrleLNXvooQMvI?usp=sharing) and comes with a few additional hints and comments. Last updated March 3rd 2023.*"
      ],
      "metadata": {
        "id": "xRbFd2IqdP3Q"
      }
    },
    {
      "cell_type": "markdown",
      "source": [
        "# Setup"
      ],
      "metadata": {
        "id": "ZwzNM9kGTijj"
      }
    },
    {
      "cell_type": "code",
      "execution_count": null,
      "metadata": {
        "id": "_Rlc6DI7_Epj",
        "cellView": "form"
      },
      "outputs": [],
      "source": [
        "#@title **Colab setup** (run this each time you want to start or resume training)\n",
        "#@markdown **Select the version of RAVE you want to use.** \\ \n",
        "#@markdown *It's recommended to pin this notebook to a version/ release tag of RAVE, to avoid errors when resuming training.* https://github.com/acids-ircam/RAVE/tags\n",
        "version = \"2.1.11\" #@param {type:\"string\"}\n",
        "\n",
        "#Install Conda\n",
        "!mkdir /content/download\n",
        "%cd /content/download\n",
        "!curl -L https://repo.anaconda.com/miniconda/Miniconda3-py39_4.12.0-Linux-x86_64.sh -o miniconda.sh\n",
        "!chmod +x miniconda.sh\n",
        "!sh miniconda.sh -b -p /content/miniconda\n",
        "\n",
        "#Install RAVE\n",
        "!/content/miniconda/bin/pip install acids-rave==$version\n",
        "\n",
        "#Upgrade ipython ipykernel, install ffmpeg\n",
        "!/content/miniconda/bin/pip install --upgrade ipython ipykernel\n",
        "!/content/miniconda/bin/conda install ffmpeg --yes\n"
      ]
    },
    {
      "cell_type": "code",
      "source": [
        "#@title **Mount Google Drive**\n",
        "\n",
        "from google.colab import drive\n",
        "drive.mount('/content/drive')"
      ],
      "metadata": {
        "cellView": "form",
        "id": "QzdJDIy-Qyqz"
      },
      "execution_count": null,
      "outputs": []
    },
    {
      "cell_type": "markdown",
      "source": [
        "# Preparation"
      ],
      "metadata": {
        "id": "aDl9A4GeTy7I"
      }
    },
    {
      "cell_type": "code",
      "source": [
        "#@title **Define variables** (run this each time or when you change something)\n",
        "\n",
        "#@markdown **1. Add the path to your working folder**\\\n",
        "#@markdown *This should be the main folder for all the generated data from pre processing and training. Make sure this is on your Google Drive, which is mounted to /content/drive/MyDrive* \n",
        "yourfolder = \"/content/drive/MyDrive/myfolder/\" #@param {type:\"string\"}\n",
        "#@markdown ---\n",
        "#@markdown **2. Add the path to your training dataset** *- aka the audio files you want RAVE to train on*\n",
        "dataset = \"/content/drive/MyDrive/myfolder/dataset/\" #@param {type:\"string\"}\n",
        "#@markdown ---\n",
        "#@markdown **3. Add the path to where the data from pre processing should be stored**\\ \n",
        "#@markdown *This should create a lock.mdb, data.mdb and metadata.yaml file in your folder.*\n",
        "processed = \"/content/drive/MyDrive/myfolder/meta/\" #@param {type:\"string\"}\n",
        "#@markdown ---\n",
        "#@markdown **4. Give your training a name**\\\n",
        "#@markdown *Avoid blanks/ spaces. A subfolder is created in your main folder with your training's name and a string suffix. Your model data and checkpoints will be stored inside this folder.*\n",
        "name = \"training\" #@param {type:\"string\"}\n",
        "#@markdown ---\n",
        "#@markdown **5. Select configuration parameters.** *Hint: there are various other configurations available. Use 'rave train --helpfull' to get a complete overview.*\n",
        "architecture = \"v2.gin\" #@param [\"v2.gin\", \"v1.gin\", \"discrete.gin\", \"onnx.gin\", \"raspberry.gin\"]\n",
        "regularization = \"wasserstein\" #@param [\"default\", \"wasserstein\", \"spherical\"]\n",
        "\n",
        "!mkdir $processed\n"
      ],
      "metadata": {
        "id": "v_uNW4HZg4f0",
        "cellView": "form"
      },
      "execution_count": null,
      "outputs": []
    },
    {
      "cell_type": "code",
      "execution_count": null,
      "metadata": {
        "id": "iZ6ECduhA2_Q",
        "cellView": "form"
      },
      "outputs": [],
      "source": [
        "#@title **Pre process dataset** (only needed once per dataset)\n",
        "\n",
        "#Optional: you can resample your material to a fixed sample rate. Files will be store in a out_<selected-sample-rate> subfolder. Make sure to change your dataset folder in the section above and rerun it. \n",
        "#samplerate = \"44100\" #@param [\"22050\", \"44100\", \"48000\"]\n",
        "#resample --sr $samplerate --augment\n",
        "\n",
        "!/content/miniconda/bin/rave preprocess --input_path $dataset --output_path $processed\n",
        "\n",
        "#Use '--lazy' on a heterogenous file set e.g. with different formats, audio settings etc. - see also https://github.com/acids-ircam/RAVE#dataset-preparation\n",
        "#!/content/miniconda/bin/rave preprocess --input_path $dataset --output_path $processed --lazy "
      ]
    },
    {
      "cell_type": "code",
      "execution_count": null,
      "metadata": {
        "id": "B81jNhVUAKJ0",
        "cellView": "form"
      },
      "outputs": [],
      "source": [
        "#@title **Load Tensorboard for monitoring training** (each training)\n",
        "#@markdown **Tensorboard will be loaded from inside your working folder.**\\\n",
        "#@markdown *Works best with Chrome. Disable ad and script blockers. Some monitoring data is only shown in the second phase of the training.* \n",
        "\n",
        "%cd $yourfolder\n",
        "%load_ext tensorboard\n",
        "%tensorboard --logdir . --bind_all"
      ]
    },
    {
      "cell_type": "markdown",
      "source": [
        "# Training"
      ],
      "metadata": {
        "id": "yO4kw0XKT4zx"
      }
    },
    {
      "cell_type": "code",
      "execution_count": null,
      "metadata": {
        "id": "s3ne3LYOan78",
        "cellView": "form"
      },
      "outputs": [],
      "source": [
        "#@title **Initial training** (start with this)\n",
        "%cd $yourfolder\n",
        "\n",
        "#Initiate training\n",
        "!/content/miniconda/bin/rave train --config $architecture --config $regularization --db_path $processed --name $name\n",
        "\n",
        "#In earlier versions of RAVE, when using Wasserstein regularization, the latent space has 128 dimensions per default. Use \"--override LATENT_SIZE=16\" as seen below to change the dimensions to a different value. \n",
        "#!/content/miniconda/bin/rave train --config $architecture --config $regularization --override LATENT_SIZE=16 --db_path $processed --name $name"
      ]
    },
    {
      "cell_type": "code",
      "source": [
        "#@title **Resume training** (continue with this)\n",
        "#@markdown **Add the path to the most recent checkpoint folder in order to resume training.**\\ \n",
        "#@markdown *These can be found in the /runs subfolder. Training name and parameters are taken from above section's settings. Make sure to run that section before resuming.*\n",
        "checkpoint = \"/content/drive/MyDrive/myfolder/runs/\\u003Cname_string>/version_XX/\" #@param {type:\"string\"}\n",
        "\n",
        "\n",
        "%cd $yourfolder\n",
        "\n",
        "#Resume training\n",
        "!/content/miniconda/bin/rave train --config $architecture --config $regularization --db_path $processed --name $name --ckpt $checkpoint\n",
        "\n",
        "#In earlier versions of RAVE, when using Wasserstein regularization, the latent space has 128 dimensions per default. Use \"--override LATENT_SIZE=16\" as seen below to change the dimensions to a different value. \n",
        "#!/content/miniconda/bin/rave train --config $architecture --config $regularization --override LATENT_SIZE=16 --db_path $processed --name $name --ckpt \n",
        "\n"
      ],
      "metadata": {
        "id": "_D4E5lZaOpE6",
        "cellView": "form"
      },
      "execution_count": null,
      "outputs": []
    },
    {
      "cell_type": "markdown",
      "source": [
        "# Export"
      ],
      "metadata": {
        "id": "6qIsXQV8T9Rg"
      }
    },
    {
      "cell_type": "code",
      "source": [
        "#@title **Export model**\n",
        "#@markdown **Add the path to your model data.**\\ \n",
        "#@markdown *This is a subfolder in /runs with your training name and a string suffix.* \n",
        "modelfolder = \"/content/drive/MyDrive/myfolder/runs/\\u003Cname_string>/\" #@param {type:\"string\"}\n",
        "\n",
        "!/content/miniconda/bin/rave export --run $modelfolder --streaming"
      ],
      "metadata": {
        "id": "kcgmc-B0K9Fv",
        "cellView": "form"
      },
      "execution_count": null,
      "outputs": []
    }
  ],
  "metadata": {
    "colab": {
      "provenance": [],
      "private_outputs": true,
      "collapsed_sections": [
        "ZwzNM9kGTijj",
        "aDl9A4GeTy7I",
        "yO4kw0XKT4zx",
        "6qIsXQV8T9Rg"
      ],
      "toc_visible": true
    },
    "gpuClass": "standard",
    "kernelspec": {
      "display_name": "Python 3",
      "name": "python3"
    },
    "language_info": {
      "name": "python"
    },
    "accelerator": "GPU"
  },
  "nbformat": 4,
  "nbformat_minor": 0
}
